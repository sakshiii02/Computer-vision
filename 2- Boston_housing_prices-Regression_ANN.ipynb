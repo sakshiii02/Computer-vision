{
 "cells": [
  {
   "cell_type": "markdown",
   "metadata": {
    "id": "teSVc4i7wTRh"
   },
   "source": [
    "# Boston housing price regression dataset\n",
    "Dataset taken from the StatLib library which is maintained at Carnegie Mellon University.\n",
    "\n",
    "Samples contain 13 attributes of houses at different locations around the Boston suburbs in the late 1970s. Targets are the median values of the houses at a location (in k$)."
   ]
  },
  {
   "cell_type": "markdown",
   "metadata": {
    "id": "bLz1Ckvfvn6D"
   },
   "source": [
    "### Import TensorFlow\n"
   ]
  },
  {
   "cell_type": "code",
   "execution_count": null,
   "metadata": {
    "ExecuteTime": {
     "start_time": "2023-12-19T11:00:22.309Z"
    },
    "colab": {
     "base_uri": "https://localhost:8080/"
    },
    "id": "CWrzVTLOvn6M",
    "outputId": "39dbe72d-8c47-4ff5-b55e-b4f70285b157"
   },
   "outputs": [],
   "source": [
    "import tensorflow as tf\n",
    "print(tf.__version__)"
   ]
  },
  {
   "cell_type": "markdown",
   "metadata": {
    "id": "WjDBLreywya1"
   },
   "source": [
    "### Import dataset\n",
    "- This dataset can be imported\n",
    "- High level API Keras has some datasets available\n",
    "- You can look at all the datasets available here https://keras.io/datasets/\n"
   ]
  },
  {
   "cell_type": "code",
   "execution_count": null,
   "metadata": {
    "colab": {
     "base_uri": "https://localhost:8080/"
    },
    "id": "Tr_z_2YHxsz5",
    "outputId": "4bde7d5a-c547-428c-e482-69f7ad1110cd"
   },
   "outputs": [
    {
     "name": "stdout",
     "output_type": "stream",
     "text": [
      "Downloading data from https://storage.googleapis.com/tensorflow/tf-keras-datasets/boston_housing.npz\n",
      "57344/57026 [==============================] - 0s 0us/step\n",
      "65536/57026 [==================================] - 0s 0us/step\n"
     ]
    }
   ],
   "source": [
    "from tensorflow.keras.datasets import boston_housing\n",
    "\n",
    "# boston_housing.load_data() function returns 2 tuples, one for train data and \n",
    "# other for test data. We will take only train data here.\n",
    "(features, actual_prices), _ = boston_housing.load_data(test_split=0)"
   ]
  },
  {
   "cell_type": "markdown",
   "metadata": {
    "id": "zXfwvgh2yvI6"
   },
   "source": [
    "### Getting details of dataset\n",
    "- We will see how many rows are there in the data\n",
    "- We will check how many features are there"
   ]
  },
  {
   "cell_type": "code",
   "execution_count": null,
   "metadata": {
    "colab": {
     "base_uri": "https://localhost:8080/"
    },
    "id": "WTYuZMy-xsz8",
    "outputId": "b6191c63-8fff-49c3-c6d9-67a0f28f63e0"
   },
   "outputs": [
    {
     "name": "stdout",
     "output_type": "stream",
     "text": [
      "Number of examples:  506\n",
      "Number of features for each example:  13\n",
      "Shape of actual prices data:  (506,)\n"
     ]
    }
   ],
   "source": [
    "print('Number of examples: ', features.shape[0])\n",
    "print('Number of features for each example: ', features.shape[1])\n",
    "print('Shape of actual prices data: ', actual_prices.shape)"
   ]
  },
  {
   "cell_type": "markdown",
   "metadata": {
    "id": "9N_pAGEI_RfD"
   },
   "source": [
    "### Build the model\n",
    "- The Sequential model is a linear stack of layers.\n",
    "- The model needs to know what input shape it should expect. For this reason, the first layer in a Sequential model (and only the first, because following layers can do automatic shape inference) needs to receive information about its input shape.\n",
    "- You can also simply add layers via the .add() method\n",
    "- You can read more about it here https://keras.io/getting-started/sequential-model-guide/"
   ]
  },
  {
   "cell_type": "code",
   "execution_count": null,
   "metadata": {
    "id": "FHM9g9hS_RfE"
   },
   "outputs": [],
   "source": [
    "# Initialize Sequential model\n",
    "model = tf.keras.models.Sequential()\n",
    "\n",
    "# Normalize input data\n",
    "model.add(tf.keras.layers.BatchNormalization(input_shape=(13,)))\n",
    "\n",
    "# Add Dense layer for prediction - Keras declares weights and bias automatically\n",
    "model.add(tf.keras.layers.Dense(1))"
   ]
  },
  {
   "cell_type": "markdown",
   "metadata": {
    "id": "YJ38weGoqGEX"
   },
   "source": [
    "### Compile the model\n",
    "- Here we configure the model for training\n",
    "- We will specify an optimizer and a loss function\n",
    "- You can read more about it here https://keras.io/models/sequential/\n"
   ]
  },
  {
   "cell_type": "code",
   "execution_count": null,
   "metadata": {
    "id": "1jTbleskqE8c"
   },
   "outputs": [],
   "source": [
    "# Compile the model - add mse as loss and stochastic gradient descent as optimizer\n",
    "model.compile(optimizer='sgd', loss='mse')"
   ]
  },
  {
   "cell_type": "markdown",
   "metadata": {
    "id": "WQXZi2mi_RfJ"
   },
   "source": [
    "### Fit the model\n",
    "- .fit() trains the model for a fixed number of epochs (iterations on a dataset)\n",
    "- An epoch is an iteration over the entire x and y data provided"
   ]
  },
  {
   "cell_type": "code",
   "execution_count": null,
   "metadata": {
    "colab": {
     "base_uri": "https://localhost:8080/"
    },
    "id": "XSp7Wq5Z_RfM",
    "outputId": "16776c16-826c-49b3-8252-f2d2e133cce7"
   },
   "outputs": [
    {
     "name": "stdout",
     "output_type": "stream",
     "text": [
      "Epoch 1/5\n",
      "16/16 [==============================] - 3s 2ms/step - loss: 185.9131\n",
      "Epoch 2/5\n",
      "16/16 [==============================] - 0s 2ms/step - loss: 41.7638\n",
      "Epoch 3/5\n",
      "16/16 [==============================] - 0s 2ms/step - loss: 35.2858\n",
      "Epoch 4/5\n",
      "16/16 [==============================] - 0s 2ms/step - loss: 29.8358\n",
      "Epoch 5/5\n",
      "16/16 [==============================] - 0s 2ms/step - loss: 28.9925\n"
     ]
    },
    {
     "data": {
      "text/plain": [
       "<keras.callbacks.History at 0x7fcf20205750>"
      ]
     },
     "execution_count": 6,
     "metadata": {},
     "output_type": "execute_result"
    }
   ],
   "source": [
    "model.fit(features, actual_prices, epochs=5)"
   ]
  },
  {
   "cell_type": "code",
   "execution_count": null,
   "metadata": {
    "id": "tNAGYz8xrNnC"
   },
   "outputs": [],
   "source": []
  }
 ],
 "metadata": {
  "accelerator": "GPU",
  "colab": {
   "collapsed_sections": [],
   "name": "2- Boston_housing_prices.ipynb",
   "provenance": []
  },
  "kernelspec": {
   "display_name": "Python 3 (ipykernel)",
   "language": "python",
   "name": "python3"
  },
  "language_info": {
   "codemirror_mode": {
    "name": "ipython",
    "version": 3
   },
   "file_extension": ".py",
   "mimetype": "text/x-python",
   "name": "python",
   "nbconvert_exporter": "python",
   "pygments_lexer": "ipython3",
   "version": "3.10.9"
  }
 },
 "nbformat": 4,
 "nbformat_minor": 1
}
