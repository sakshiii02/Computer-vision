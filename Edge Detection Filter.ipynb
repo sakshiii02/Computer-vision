{
 "cells": [
  {
   "cell_type": "code",
   "execution_count": 1,
   "id": "3589567d",
   "metadata": {
    "ExecuteTime": {
     "end_time": "2024-01-03T18:36:46.563166Z",
     "start_time": "2024-01-03T18:34:59.815531Z"
    }
   },
   "outputs": [
    {
     "data": {
      "image/png": "[encoded data removed]",
      "text/plain": [
       "<Figure size 800x400 with 2 Axes>"
      ]
     },
     "metadata": {},
     "output_type": "display_data"
    }
   ],
   "source": [
    "import numpy as np\n",
    "import matplotlib.pyplot as plt\n",
    "from tensorflow.keras.datasets import mnist\n",
    "import cv2\n",
    "\n",
    "# Load and preprocess the MNIST dataset\n",
    "(x_train, y_train), (_, _) = mnist.load_data()\n",
    "single_image = x_train[0]  # Choosing the first image from the training set\n",
    "\n",
    "# Apply edge detection filter (Sobel)\n",
    "edge_filter = np.array([[-1, 0, 1],\n",
    "                        [-2, 0, 2],\n",
    "                        [-1, 0, 1]])\n",
    "\n",
    "# Apply filter to the image\n",
    "edges = cv2.filter2D(single_image, -1, edge_filter)\n",
    "\n",
    "# Display the original and filtered images\n",
    "plt.figure(figsize=(8, 4))\n",
    "\n",
    "plt.subplot(1, 2, 1)\n",
    "plt.imshow(single_image, cmap='gray')\n",
    "plt.title('Original Image')\n",
    "plt.axis('off')\n",
    "\n",
    "plt.subplot(1, 2, 2)\n",
    "plt.imshow(edges, cmap='gray')\n",
    "plt.title('Edge Detection (Sobel)')\n",
    "plt.axis('off')\n",
    "\n",
    "plt.tight_layout()\n",
    "plt.show()\n"
   ]
  },
  {
   "cell_type": "markdown",
   "id": "d241a078",
   "metadata": {},
   "source": [
    "Imagine this filter as a tiny window that moves across the image, looking at a small group of pixels at a time. Each number in the filter is like a special pair of glasses that helps the window decide which parts of the image are more important for finding edges.\n",
    "\n",
    "The numbers -1, 0, and 1 in the top row of the filter are like looking at the brightness of three pixels in a row from left to right.\n",
    "\n",
    "When moving across the image, this helps the filter notice when one side of the window is brighter than the other, signaling a change or edge.\n",
    "\n",
    "The numbers -2 and 2 in the middle row emphasize this change more strongly, saying, \"Hey, if there's a big difference in brightness between the left and right pixels, I really want to pay attention!\"\n",
    "\n",
    "The bottom row with -1, 0, and 1 works similarly to the top row but in the opposite direction.\n",
    "\n",
    "The 0 in the middle of the kernel has a neutral effect and mainly serves to focus on the changes in adjacent rows or columns."
   ]
  },
  {
   "cell_type": "code",
   "execution_count": null,
   "id": "b7431441",
   "metadata": {},
   "outputs": [],
   "source": []
  }
 ],
 "metadata": {
  "kernelspec": {
   "display_name": "Python 3 (ipykernel)",
   "language": "python",
   "name": "python3"
  },
  "language_info": {
   "codemirror_mode": {
    "name": "ipython",
    "version": 3
   },
   "file_extension": ".py",
   "mimetype": "text/x-python",
   "name": "python",
   "nbconvert_exporter": "python",
   "pygments_lexer": "ipython3",
   "version": "3.10.9"
  }
 },
 "nbformat": 4,
 "nbformat_minor": 5
}
