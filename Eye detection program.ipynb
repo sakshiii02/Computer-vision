{
 "cells": [
  {
   "cell_type": "code",
   "execution_count": 1,
   "id": "3e3170ff",
   "metadata": {},
   "outputs": [],
   "source": [
    "import cv2"
   ]
  },
  {
   "cell_type": "code",
   "execution_count": 2,
   "id": "9d0da852",
   "metadata": {},
   "outputs": [],
   "source": [
    "#Specify the full file paths for Haar cascade classifiers\n",
    "eye_cascade_path=r'C:\\Users\\rajes\\OneDrive\\Documents\\Python Scripts\\lib\\site-packages\\cv2\\data\\haarcascade_eye.xml'"
   ]
  },
  {
   "cell_type": "code",
   "execution_count": 3,
   "id": "8bead66e",
   "metadata": {},
   "outputs": [],
   "source": [
    "#Load the pre-trained haar cascade classifier for face detection\n",
    "\n",
    "eye_cascade=cv2.CascadeClassifier(eye_cascade_path)"
   ]
  },
  {
   "cell_type": "code",
   "execution_count": 14,
   "id": "92ea4a7e",
   "metadata": {},
   "outputs": [],
   "source": [
    "#Load an image for eye detection\n",
    "\n",
    "image=cv2.imread('OIP.jpg')"
   ]
  },
  {
   "cell_type": "code",
   "execution_count": 15,
   "id": "2184fb81",
   "metadata": {},
   "outputs": [],
   "source": [
    "#Convert the image to greyscale\n",
    "\n",
    "gray_image=cv2.cvtColor(image,cv2.COLOR_BGR2GRAY)"
   ]
  },
  {
   "cell_type": "code",
   "execution_count": 16,
   "id": "4c85f5b8",
   "metadata": {},
   "outputs": [],
   "source": [
    "#Perform eye detection\n",
    "\n",
    "eyes=eye_cascade.detectMultiScale(gray_image,scaleFactor=1.1,minNeighbors=5)"
   ]
  },
  {
   "cell_type": "code",
   "execution_count": 17,
   "id": "cc962ccc",
   "metadata": {},
   "outputs": [],
   "source": [
    "#Draw rectangles around detected eyes\n",
    "\n",
    "for (x,y,w,h)in eyes:\n",
    "    cv2.rectangle(image, (x, y), (x+w, y+h),(0,255,0),3)"
   ]
  },
  {
   "cell_type": "code",
   "execution_count": 20,
   "id": "7fd488dd",
   "metadata": {},
   "outputs": [],
   "source": [
    "#Display the with detected eyes\n",
    "\n",
    "cv2.imshow('Detected Eyes',image)\n",
    "cv2.waitKey(0)\n",
    "cv2.destroyAllWindows()"
   ]
  },
  {
   "cell_type": "code",
   "execution_count": null,
   "id": "e002ba04",
   "metadata": {},
   "outputs": [],
   "source": []
  }
 ],
 "metadata": {
  "kernelspec": {
   "display_name": "Python 3 (ipykernel)",
   "language": "python",
   "name": "python3"
  },
  "language_info": {
   "codemirror_mode": {
    "name": "ipython",
    "version": 3
   },
   "file_extension": ".py",
   "mimetype": "text/x-python",
   "name": "python",
   "nbconvert_exporter": "python",
   "pygments_lexer": "ipython3",
   "version": "3.10.9"
  }
 },
 "nbformat": 4,
 "nbformat_minor": 5
}
