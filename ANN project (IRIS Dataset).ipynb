{
 "cells": [
  {
   "cell_type": "code",
   "execution_count": 1,
   "id": "640419c2",
   "metadata": {},
   "outputs": [],
   "source": [
    "#Import all the necessary packages\n",
    "import numpy as np\n",
    "import pandas as pd\n",
    "\n",
    "# Libraries to help with data visualization\n",
    "import matplotlib.pyplot as plt\n",
    "import seaborn as sns\n",
    "import warnings \n",
    "warnings.filterwarnings( \"ignore\")"
   ]
  },
  {
   "cell_type": "code",
   "execution_count": 2,
   "id": "413f8f1e",
   "metadata": {},
   "outputs": [],
   "source": [
    "from sklearn.datasets import load_iris"
   ]
  },
  {
   "cell_type": "code",
   "execution_count": 3,
   "id": "f6a15890",
   "metadata": {},
   "outputs": [
    {
     "name": "stdout",
     "output_type": "stream",
     "text": [
      ".. _iris_dataset:\n",
      "\n",
      "Iris plants dataset\n",
      "--------------------\n",
      "\n",
      "**Data Set Characteristics:**\n",
      "\n",
      "    :Number of Instances: 150 (50 in each of three classes)\n",
      "    :Number of Attributes: 4 numeric, predictive attributes and the class\n",
      "    :Attribute Information:\n",
      "        - sepal length in cm\n",
      "        - sepal width in cm\n",
      "        - petal length in cm\n",
      "        - petal width in cm\n",
      "        - class:\n",
      "                - Iris-Setosa\n",
      "                - Iris-Versicolour\n",
      "                - Iris-Virginica\n",
      "                \n",
      "    :Summary Statistics:\n",
      "\n",
      "    ============== ==== ==== ======= ===== ====================\n",
      "                    Min  Max   Mean    SD   Class Correlation\n",
      "    ============== ==== ==== ======= ===== ====================\n",
      "    sepal length:   4.3  7.9   5.84   0.83    0.7826\n",
      "    sepal width:    2.0  4.4   3.05   0.43   -0.4194\n",
      "    petal length:   1.0  6.9   3.76   1.76    0.9490  (high!)\n",
      "    petal width:    0.1  2.5   1.20   0.76    0.9565  (high!)\n",
      "    ============== ==== ==== ======= ===== ====================\n",
      "\n",
      "    :Missing Attribute Values: None\n",
      "    :Class Distribution: 33.3% for each of 3 classes.\n",
      "    :Creator: R.A. Fisher\n",
      "    :Donor: Michael Marshall (MARSHALL%PLU@io.arc.nasa.gov)\n",
      "    :Date: July, 1988\n",
      "\n",
      "The famous Iris database, first used by Sir R.A. Fisher. The dataset is taken\n",
      "from Fisher's paper. Note that it's the same as in R, but not as in the UCI\n",
      "Machine Learning Repository, which has two wrong data points.\n",
      "\n",
      "This is perhaps the best known database to be found in the\n",
      "pattern recognition literature.  Fisher's paper is a classic in the field and\n",
      "is referenced frequently to this day.  (See Duda & Hart, for example.)  The\n",
      "data set contains 3 classes of 50 instances each, where each class refers to a\n",
      "type of iris plant.  One class is linearly separable from the other 2; the\n",
      "latter are NOT linearly separable from each other.\n",
      "\n",
      "|details-start|\n",
      "**References**\n",
      "|details-split|\n",
      "\n",
      "- Fisher, R.A. \"The use of multiple measurements in taxonomic problems\"\n",
      "  Annual Eugenics, 7, Part II, 179-188 (1936); also in \"Contributions to\n",
      "  Mathematical Statistics\" (John Wiley, NY, 1950).\n",
      "- Duda, R.O., & Hart, P.E. (1973) Pattern Classification and Scene Analysis.\n",
      "  (Q327.D83) John Wiley & Sons.  ISBN 0-471-22361-1.  See page 218.\n",
      "- Dasarathy, B.V. (1980) \"Nosing Around the Neighborhood: A New System\n",
      "  Structure and Classification Rule for Recognition in Partially Exposed\n",
      "  Environments\".  IEEE Transactions on Pattern Analysis and Machine\n",
      "  Intelligence, Vol. PAMI-2, No. 1, 67-71.\n",
      "- Gates, G.W. (1972) \"The Reduced Nearest Neighbor Rule\".  IEEE Transactions\n",
      "  on Information Theory, May 1972, 431-433.\n",
      "- See also: 1988 MLC Proceedings, 54-64.  Cheeseman et al\"s AUTOCLASS II\n",
      "  conceptual clustering system finds 3 classes in the data.\n",
      "- Many, many more ...\n",
      "\n",
      "|details-end|\n"
     ]
    }
   ],
   "source": [
    "# Load the Iris dataset\n",
    "iris = load_iris()\n",
    "\n",
    "# Print the description of the dataset\n",
    "print(iris.DESCR)"
   ]
  },
  {
   "cell_type": "markdown",
   "id": "cf963091",
   "metadata": {},
   "source": [
    "This code will import the Iris dataset and print out its description, feature names, target names, data shape, first five rows of data, and target values."
   ]
  },
  {
   "cell_type": "code",
   "execution_count": 4,
   "id": "136b93da",
   "metadata": {},
   "outputs": [
    {
     "name": "stdout",
     "output_type": "stream",
     "text": [
      "Feature names: ['sepal length (cm)', 'sepal width (cm)', 'petal length (cm)', 'petal width (cm)']\n",
      "Target names: ['setosa' 'versicolor' 'virginica']\n"
     ]
    }
   ],
   "source": [
    "# Access the feature names\n",
    "print(\"Feature names:\", iris.feature_names)\n",
    "\n",
    "# Access the target names\n",
    "print(\"Target names:\", iris.target_names)"
   ]
  },
  {
   "cell_type": "code",
   "execution_count": 5,
   "id": "5e5665fa",
   "metadata": {},
   "outputs": [
    {
     "name": "stdout",
     "output_type": "stream",
     "text": [
      "Data shape: (150, 4)\n",
      "First five rows of data:\n",
      " [[5.1 3.5 1.4 0.2]\n",
      " [4.9 3.  1.4 0.2]\n",
      " [4.7 3.2 1.3 0.2]\n",
      " [4.6 3.1 1.5 0.2]\n",
      " [5.  3.6 1.4 0.2]]\n"
     ]
    }
   ],
   "source": [
    "# Access the data\n",
    "print(\"Data shape:\", iris.data.shape)\n",
    "print(\"First five rows of data:\\n\", iris.data[:5])"
   ]
  },
  {
   "cell_type": "code",
   "execution_count": 6,
   "id": "14f6fcbf",
   "metadata": {},
   "outputs": [
    {
     "name": "stdout",
     "output_type": "stream",
     "text": [
      "Target shape: (150,)\n",
      "Target values: [0 0 0 0 0 0 0 0 0 0 0 0 0 0 0 0 0 0 0 0 0 0 0 0 0 0 0 0 0 0 0 0 0 0 0 0 0\n",
      " 0 0 0 0 0 0 0 0 0 0 0 0 0 1 1 1 1 1 1 1 1 1 1 1 1 1 1 1 1 1 1 1 1 1 1 1 1\n",
      " 1 1 1 1 1 1 1 1 1 1 1 1 1 1 1 1 1 1 1 1 1 1 1 1 1 1 2 2 2 2 2 2 2 2 2 2 2\n",
      " 2 2 2 2 2 2 2 2 2 2 2 2 2 2 2 2 2 2 2 2 2 2 2 2 2 2 2 2 2 2 2 2 2 2 2 2 2\n",
      " 2 2]\n"
     ]
    }
   ],
   "source": [
    "# Access the target (labels)\n",
    "print(\"Target shape:\", iris.target.shape)\n",
    "print(\"Target values:\", iris.target)"
   ]
  },
  {
   "cell_type": "markdown",
   "id": "3f47809d",
   "metadata": {},
   "source": [
    "#### Split dataset into features (x) and labels (y)"
   ]
  },
  {
   "cell_type": "code",
   "execution_count": 7,
   "id": "e34ef81b",
   "metadata": {},
   "outputs": [],
   "source": [
    "from sklearn.model_selection import train_test_split\n",
    "\n",
    "# Split the dataset into features (X) and target (y)\n",
    "X = iris.data  # Features\n",
    "y = iris.target  # Target\n",
    "\n",
    "# Optionally, we can split the data into training and testing sets\n",
    "X_train, X_test, y_train, y_test = train_test_split(X, y, test_size=0.2, random_state=42)"
   ]
  },
  {
   "cell_type": "code",
   "execution_count": 8,
   "id": "0c7da328",
   "metadata": {},
   "outputs": [
    {
     "name": "stdout",
     "output_type": "stream",
     "text": [
      "Shape of features (X): (150, 4)\n",
      "Shape of target (y): (150,)\n",
      "Shape of training features (X_train): (120, 4)\n",
      "Shape of testing features (X_test): (30, 4)\n",
      "Shape of training target (y_train): (120,)\n",
      "Shape of testing target (y_test): (30,)\n"
     ]
    }
   ],
   "source": [
    "# Print the shapes of the datasets\n",
    "print(\"Shape of features (X):\", X.shape)\n",
    "print(\"Shape of target (y):\", y.shape)\n",
    "\n",
    "print(\"Shape of training features (X_train):\", X_train.shape)\n",
    "print(\"Shape of testing features (X_test):\", X_test.shape)\n",
    "print(\"Shape of training target (y_train):\", y_train.shape)\n",
    "print(\"Shape of testing target (y_test):\", y_test.shape)"
   ]
  },
  {
   "cell_type": "markdown",
   "id": "d3d1519c",
   "metadata": {},
   "source": [
    "'X' contains the features (input variables) of the Iris dataset."
   ]
  },
  {
   "cell_type": "markdown",
   "id": "11b6336d",
   "metadata": {},
   "source": [
    "'y' contains the target variable (class labels)."
   ]
  },
  {
   "cell_type": "markdown",
   "id": "7edbf14b",
   "metadata": {},
   "source": [
    "* Train_test_split function is used to split the dataset into training and testing sets, with 80% of the data used for training and 20% for testing. Adjust the test_size parameter as needed.\n",
    "* Random_state parameter is set for reproducibility, ensuring that the split is the same every time you run the code."
   ]
  },
  {
   "cell_type": "markdown",
   "id": "20249e79",
   "metadata": {},
   "source": [
    "#### Normalize the features"
   ]
  },
  {
   "cell_type": "code",
   "execution_count": 9,
   "id": "1265b4cc",
   "metadata": {},
   "outputs": [],
   "source": [
    "from sklearn.preprocessing import StandardScaler\n",
    "\n",
    "# Method 1: Standardization (scaling to have mean=0 and variance=1)\n",
    "scaler = StandardScaler()\n",
    "X_standardized = scaler.fit_transform(X)"
   ]
  },
  {
   "cell_type": "markdown",
   "id": "5cf020a1",
   "metadata": {},
   "source": [
    "In the code above, 'StandardScaler' from 'sklearn.preprocessing' is used for standardization."
   ]
  },
  {
   "cell_type": "markdown",
   "id": "60db06d4",
   "metadata": {},
   "source": [
    "#### Encode the class labels into binary format"
   ]
  },
  {
   "cell_type": "code",
   "execution_count": 10,
   "id": "02af9488",
   "metadata": {
    "scrolled": true
   },
   "outputs": [
    {
     "name": "stdout",
     "output_type": "stream",
     "text": [
      "Original Class Labels:\n",
      "[0 0 0 0 0]\n",
      "\n",
      "Binary Representation of Class Labels:\n",
      "[[1 0 0]\n",
      " [1 0 0]\n",
      " [1 0 0]\n",
      " [1 0 0]\n",
      " [1 0 0]]\n"
     ]
    }
   ],
   "source": [
    "from sklearn.preprocessing import LabelBinarizer\n",
    "\n",
    "# Encode the class labels into binary format\n",
    "label_binarizer = LabelBinarizer()\n",
    "y_binary = label_binarizer.fit_transform(y)\n",
    "\n",
    "# Print the original class labels and the corresponding binary representation\n",
    "print(\"Original Class Labels:\")\n",
    "print(y[:5])  # Print the first 5 original class labels\n",
    "\n",
    "print(\"\\nBinary Representation of Class Labels:\")\n",
    "print(y_binary[:5])  # Print the binary representation of first five class labels"
   ]
  },
  {
   "cell_type": "markdown",
   "id": "0b418685",
   "metadata": {},
   "source": [
    "'LabelBinarizer' is used to convert the class labels into binary format."
   ]
  },
  {
   "cell_type": "markdown",
   "id": "d374cf43",
   "metadata": {},
   "source": [
    "The 'fit_transform()' method is used to both fit the binarizer to the class labels and transform them into binary format simultaneously."
   ]
  },
  {
   "cell_type": "markdown",
   "id": "25ddf20e",
   "metadata": {},
   "source": [
    "'y_binary' now contains the binary representation of the class labels. Each row represents a sample, and each column represents a class, with a value of 1 indicating the presence of that class and 0 indicating absence."
   ]
  },
  {
   "cell_type": "markdown",
   "id": "3f99e61c",
   "metadata": {},
   "source": [
    "#### Design the sample Neural Network"
   ]
  },
  {
   "cell_type": "code",
   "execution_count": 11,
   "id": "6124e482",
   "metadata": {},
   "outputs": [
    {
     "name": "stdout",
     "output_type": "stream",
     "text": [
      "WARNING:tensorflow:From C:\\Users\\rajes\\OneDrive\\Documents\\Python Scripts\\lib\\site-packages\\keras\\losses.py:2664: The name tf.losses.sparse_softmax_cross_entropy is deprecated. Please use tf.compat.v1.losses.sparse_softmax_cross_entropy instead.\n",
      "\n",
      "WARNING:tensorflow:From C:\\Users\\rajes\\OneDrive\\Documents\\Python Scripts\\lib\\site-packages\\keras\\backend.py:873: The name tf.get_default_graph is deprecated. Please use tf.compat.v1.get_default_graph instead.\n",
      "\n"
     ]
    }
   ],
   "source": [
    "from keras.models import Sequential\n",
    "from keras.layers import Dense\n",
    "from keras.optimizers import Adam\n",
    "\n",
    "# Define the architecture of the neural network\n",
    "model = Sequential([\n",
    "    Dense(64, input_shape=(4,), activation='relu'),  # Input layer with 4 features\n",
    "    Dense(32, activation='relu'),                    # Hidden layer with 32 neurons and ReLU activation\n",
    "    Dense(1, activation='sigmoid')                   # Output layer with 3 neurons for classification\n",
    "])"
   ]
  },
  {
   "cell_type": "markdown",
   "id": "7b8a4e83",
   "metadata": {},
   "source": [
    "The neural network is created using the Sequential model from Keras, which allows you to build models layer by layer."
   ]
  },
  {
   "cell_type": "markdown",
   "id": "156e6cce",
   "metadata": {},
   "source": [
    "\n",
    "We add layers to the model using the Dense layer, which represents fully connected layers."
   ]
  },
  {
   "cell_type": "markdown",
   "id": "abe93316",
   "metadata": {},
   "source": [
    "The first layer (Dense(64, input_shape=(4,), activation='relu')) has 64 neurons, expects input with 4 features (assuming you are working with the Iris dataset), and uses the ReLU activation function."
   ]
  },
  {
   "cell_type": "markdown",
   "id": "bbafae10",
   "metadata": {},
   "source": [
    "\n",
    "The second layer (Dense(32, activation='relu')) has 32 neurons and also uses the ReLU activation function.\n"
   ]
  },
  {
   "cell_type": "markdown",
   "id": "bab45732",
   "metadata": {},
   "source": [
    "\n",
    "The output layer (Dense(1, activation='sigmoid')) has 1 neuron corresponding to one class in the Iris dataset, and it uses the sigmoid activation function for binary classification.\n"
   ]
  },
  {
   "cell_type": "code",
   "execution_count": 12,
   "id": "6e60b75f",
   "metadata": {},
   "outputs": [],
   "source": [
    "# Compile the model\n",
    "model.compile(optimizer=Adam(learning_rate=0.001),  # Adam optimizer with learning rate 0.001\n",
    "              loss='binary_crossentropy',      # Binary cross-entropy loss for binary classification\n",
    "              metrics=['accuracy'])                  # Monitor accuracy during training"
   ]
  },
  {
   "cell_type": "markdown",
   "id": "ca99998a",
   "metadata": {},
   "source": [
    "The model is compiled using the Adam optimizer with a learning rate of 0.001, binary cross-entropy loss function for binary classification, and accuracy as the metric to monitor during training."
   ]
  },
  {
   "cell_type": "code",
   "execution_count": 13,
   "id": "7dc68319",
   "metadata": {},
   "outputs": [
    {
     "name": "stdout",
     "output_type": "stream",
     "text": [
      "Epoch 1/50\n",
      "WARNING:tensorflow:From C:\\Users\\rajes\\OneDrive\\Documents\\Python Scripts\\lib\\site-packages\\keras\\utils\\tf_utils.py:490: The name tf.ragged.RaggedTensorValue is deprecated. Please use tf.compat.v1.ragged.RaggedTensorValue instead.\n",
      "\n",
      "WARNING:tensorflow:From C:\\Users\\rajes\\OneDrive\\Documents\\Python Scripts\\lib\\site-packages\\keras\\engine\\base_layer_utils.py:380: The name tf.executing_eagerly_outside_functions is deprecated. Please use tf.compat.v1.executing_eagerly_outside_functions instead.\n",
      "\n",
      "14/14 [==============================] - 2s 34ms/step - loss: 0.6721 - accuracy: 0.4167 - val_loss: -0.1177 - val_accuracy: 0.4167\n",
      "Epoch 2/50\n",
      "14/14 [==============================] - 0s 14ms/step - loss: -0.1756 - accuracy: 0.3333 - val_loss: -0.8681 - val_accuracy: 0.4167\n",
      "Epoch 3/50\n",
      "14/14 [==============================] - 0s 12ms/step - loss: -0.6043 - accuracy: 0.3333 - val_loss: -1.4650 - val_accuracy: 0.4167\n",
      "Epoch 4/50\n",
      "14/14 [==============================] - 0s 12ms/step - loss: -1.0467 - accuracy: 0.3333 - val_loss: -2.0310 - val_accuracy: 0.4167\n",
      "Epoch 5/50\n",
      "14/14 [==============================] - 0s 12ms/step - loss: -1.5320 - accuracy: 0.3333 - val_loss: -2.6897 - val_accuracy: 0.4167\n",
      "Epoch 6/50\n",
      "14/14 [==============================] - 0s 13ms/step - loss: -2.1232 - accuracy: 0.3333 - val_loss: -3.5347 - val_accuracy: 0.4167\n",
      "Epoch 7/50\n",
      "14/14 [==============================] - 0s 12ms/step - loss: -2.8537 - accuracy: 0.3333 - val_loss: -4.6637 - val_accuracy: 0.4167\n",
      "Epoch 8/50\n",
      "14/14 [==============================] - 0s 12ms/step - loss: -3.7499 - accuracy: 0.3333 - val_loss: -5.9648 - val_accuracy: 0.4167\n",
      "Epoch 9/50\n",
      "14/14 [==============================] - 0s 11ms/step - loss: -4.8980 - accuracy: 0.3426 - val_loss: -7.5091 - val_accuracy: 0.4167\n",
      "Epoch 10/50\n",
      "14/14 [==============================] - 0s 11ms/step - loss: -6.3786 - accuracy: 0.3519 - val_loss: -9.3432 - val_accuracy: 0.5000\n",
      "Epoch 11/50\n",
      "14/14 [==============================] - 0s 13ms/step - loss: -8.0677 - accuracy: 0.3519 - val_loss: -11.8868 - val_accuracy: 0.5000\n",
      "Epoch 12/50\n",
      "14/14 [==============================] - 0s 13ms/step - loss: -10.1887 - accuracy: 0.3519 - val_loss: -14.8290 - val_accuracy: 0.5000\n",
      "Epoch 13/50\n",
      "14/14 [==============================] - 0s 13ms/step - loss: -12.8463 - accuracy: 0.3704 - val_loss: -18.5077 - val_accuracy: 0.5000\n",
      "Epoch 14/50\n",
      "14/14 [==============================] - 0s 14ms/step - loss: -15.8736 - accuracy: 0.3611 - val_loss: -22.8046 - val_accuracy: 0.5000\n",
      "Epoch 15/50\n",
      "14/14 [==============================] - 0s 12ms/step - loss: -19.5874 - accuracy: 0.3704 - val_loss: -28.1084 - val_accuracy: 0.5000\n",
      "Epoch 16/50\n",
      "14/14 [==============================] - 0s 12ms/step - loss: -24.0021 - accuracy: 0.3981 - val_loss: -33.8895 - val_accuracy: 0.5000\n",
      "Epoch 17/50\n",
      "14/14 [==============================] - 0s 13ms/step - loss: -28.9771 - accuracy: 0.3704 - val_loss: -40.7693 - val_accuracy: 0.5000\n",
      "Epoch 18/50\n",
      "14/14 [==============================] - 0s 14ms/step - loss: -34.7473 - accuracy: 0.3796 - val_loss: -48.2671 - val_accuracy: 0.5000\n",
      "Epoch 19/50\n",
      "14/14 [==============================] - 0s 15ms/step - loss: -40.9791 - accuracy: 0.4259 - val_loss: -56.4679 - val_accuracy: 0.5000\n",
      "Epoch 20/50\n",
      "14/14 [==============================] - 0s 13ms/step - loss: -48.0218 - accuracy: 0.3889 - val_loss: -65.5722 - val_accuracy: 0.5000\n",
      "Epoch 21/50\n",
      "14/14 [==============================] - 0s 13ms/step - loss: -55.6719 - accuracy: 0.3981 - val_loss: -75.9237 - val_accuracy: 0.5000\n",
      "Epoch 22/50\n",
      "14/14 [==============================] - 0s 13ms/step - loss: -64.4248 - accuracy: 0.4074 - val_loss: -86.8898 - val_accuracy: 0.5000\n",
      "Epoch 23/50\n",
      "14/14 [==============================] - 0s 12ms/step - loss: -73.3905 - accuracy: 0.3889 - val_loss: -100.0224 - val_accuracy: 0.5000\n",
      "Epoch 24/50\n",
      "14/14 [==============================] - 0s 13ms/step - loss: -83.8661 - accuracy: 0.3889 - val_loss: -114.0571 - val_accuracy: 0.5000\n",
      "Epoch 25/50\n",
      "14/14 [==============================] - 0s 13ms/step - loss: -95.4501 - accuracy: 0.3796 - val_loss: -127.9440 - val_accuracy: 0.5000\n",
      "Epoch 26/50\n",
      "14/14 [==============================] - 0s 12ms/step - loss: -107.3347 - accuracy: 0.3889 - val_loss: -143.8190 - val_accuracy: 0.5000\n",
      "Epoch 27/50\n",
      "14/14 [==============================] - 0s 16ms/step - loss: -119.7478 - accuracy: 0.3981 - val_loss: -162.5356 - val_accuracy: 0.5000\n",
      "Epoch 28/50\n",
      "14/14 [==============================] - 0s 14ms/step - loss: -135.3509 - accuracy: 0.4352 - val_loss: -177.9454 - val_accuracy: 0.5000\n",
      "Epoch 29/50\n",
      "14/14 [==============================] - 0s 12ms/step - loss: -149.4411 - accuracy: 0.3889 - val_loss: -199.4722 - val_accuracy: 0.5000\n",
      "Epoch 30/50\n",
      "14/14 [==============================] - 0s 12ms/step - loss: -165.9449 - accuracy: 0.4167 - val_loss: -218.9890 - val_accuracy: 0.5000\n",
      "Epoch 31/50\n",
      "14/14 [==============================] - 0s 12ms/step - loss: -182.5620 - accuracy: 0.3889 - val_loss: -244.5432 - val_accuracy: 0.5000\n",
      "Epoch 32/50\n",
      "14/14 [==============================] - 0s 13ms/step - loss: -201.9362 - accuracy: 0.3981 - val_loss: -265.5205 - val_accuracy: 0.5000\n",
      "Epoch 33/50\n",
      "14/14 [==============================] - 0s 14ms/step - loss: -221.4086 - accuracy: 0.4722 - val_loss: -287.9674 - val_accuracy: 0.5000\n",
      "Epoch 34/50\n",
      "14/14 [==============================] - 0s 11ms/step - loss: -240.7721 - accuracy: 0.4074 - val_loss: -319.7540 - val_accuracy: 0.5000\n",
      "Epoch 35/50\n",
      "14/14 [==============================] - 0s 11ms/step - loss: -263.4942 - accuracy: 0.3796 - val_loss: -347.0216 - val_accuracy: 0.5000\n",
      "Epoch 36/50\n",
      "14/14 [==============================] - 0s 12ms/step - loss: -287.5369 - accuracy: 0.4167 - val_loss: -374.7661 - val_accuracy: 0.5000\n",
      "Epoch 37/50\n",
      "14/14 [==============================] - 0s 13ms/step - loss: -310.8295 - accuracy: 0.3796 - val_loss: -409.6040 - val_accuracy: 0.5000\n",
      "Epoch 38/50\n",
      "14/14 [==============================] - 0s 10ms/step - loss: -337.7660 - accuracy: 0.3796 - val_loss: -439.2914 - val_accuracy: 0.5000\n",
      "Epoch 39/50\n",
      "14/14 [==============================] - 0s 13ms/step - loss: -364.1045 - accuracy: 0.4167 - val_loss: -477.4254 - val_accuracy: 0.5000\n",
      "Epoch 40/50\n",
      "14/14 [==============================] - 0s 10ms/step - loss: -391.7992 - accuracy: 0.3796 - val_loss: -517.0952 - val_accuracy: 0.5000\n",
      "Epoch 41/50\n",
      "14/14 [==============================] - 0s 11ms/step - loss: -422.7754 - accuracy: 0.3889 - val_loss: -552.0466 - val_accuracy: 0.5000\n",
      "Epoch 42/50\n",
      "14/14 [==============================] - 0s 12ms/step - loss: -455.7766 - accuracy: 0.4167 - val_loss: -593.3105 - val_accuracy: 0.5000\n",
      "Epoch 43/50\n",
      "14/14 [==============================] - 0s 12ms/step - loss: -489.0259 - accuracy: 0.4074 - val_loss: -635.4774 - val_accuracy: 0.5000\n",
      "Epoch 44/50\n",
      "14/14 [==============================] - 0s 13ms/step - loss: -522.4029 - accuracy: 0.3981 - val_loss: -684.3864 - val_accuracy: 0.5000\n",
      "Epoch 45/50\n",
      "14/14 [==============================] - 0s 12ms/step - loss: -559.9977 - accuracy: 0.3796 - val_loss: -726.1670 - val_accuracy: 0.5000\n",
      "Epoch 46/50\n",
      "14/14 [==============================] - 0s 10ms/step - loss: -597.5128 - accuracy: 0.4167 - val_loss: -771.6456 - val_accuracy: 0.5000\n",
      "Epoch 47/50\n",
      "14/14 [==============================] - 0s 11ms/step - loss: -634.2029 - accuracy: 0.3889 - val_loss: -828.0049 - val_accuracy: 0.5000\n",
      "Epoch 48/50\n",
      "14/14 [==============================] - 0s 11ms/step - loss: -677.2347 - accuracy: 0.4074 - val_loss: -879.9525 - val_accuracy: 0.5000\n",
      "Epoch 49/50\n",
      "14/14 [==============================] - 0s 11ms/step - loss: -721.7781 - accuracy: 0.4259 - val_loss: -926.1835 - val_accuracy: 0.5000\n",
      "Epoch 50/50\n",
      "14/14 [==============================] - 0s 13ms/step - loss: -764.1145 - accuracy: 0.4167 - val_loss: -999.3448 - val_accuracy: 0.5000\n",
      "1/1 [==============================] - 0s 47ms/step - loss: -938.3331 - accuracy: 0.3000\n",
      "Test Loss: -938.3330688476562\n",
      "Test Accuracy: 0.30000001192092896\n"
     ]
    }
   ],
   "source": [
    "# Train the model\n",
    "history = model.fit(X_train, y_train, epochs=50, batch_size=8, validation_split=0.1)\n",
    "\n",
    "# Evaluate the model on the test set\n",
    "loss, accuracy = model.evaluate(X_test, y_test)\n",
    "print(\"Test Loss:\", loss)\n",
    "print(\"Test Accuracy:\", accuracy)"
   ]
  },
  {
   "cell_type": "markdown",
   "id": "79a4fb12",
   "metadata": {},
   "source": [
    "* We train the model on the training set for 50 epochs with a batch size of 8 and a validation split of 0.1.\n",
    "* We evaluate the model's performance on the test set and print the test loss and accuracy."
   ]
  },
  {
   "cell_type": "code",
   "execution_count": 14,
   "id": "3a8868d9",
   "metadata": {},
   "outputs": [
    {
     "data": {
      "image/png": "[encoded data removed]",
      "text/plain": [
       "<Figure size 640x480 with 1 Axes>"
      ]
     },
     "metadata": {},
     "output_type": "display_data"
    }
   ],
   "source": [
    "import matplotlib.pyplot as plt\n",
    "\n",
    "# Visualize the training loss\n",
    "plt.plot(history.history['loss'], label='Training Loss')\n",
    "plt.plot(history.history['val_loss'], label='Validation Loss')\n",
    "plt.title('Training and Validation Loss')\n",
    "plt.xlabel('Epoch')\n",
    "plt.ylabel('Loss')\n",
    "plt.legend()\n",
    "plt.show()"
   ]
  },
  {
   "cell_type": "markdown",
   "id": "9fefa0ff",
   "metadata": {},
   "source": [
    "* We train the model and store the training history in the variable history.\n",
    "* We use Matplotlib to plot the training loss (loss) and validation loss (val_loss) across epochs.\n",
    "* The x-axis represents the number of epochs, and the y-axis represents the loss value.\n",
    "* The plot helps visualize how the loss decreases during training and whether there's any overfitting indicated by a significant difference between training and validation loss."
   ]
  },
  {
   "cell_type": "code",
   "execution_count": 15,
   "id": "9a1cfca1",
   "metadata": {},
   "outputs": [
    {
     "name": "stdout",
     "output_type": "stream",
     "text": [
      "Model: \"sequential_1\"\n",
      "_________________________________________________________________\n",
      " Layer (type)                Output Shape              Param #   \n",
      "=================================================================\n",
      " dense_3 (Dense)             (None, 256)               1280      \n",
      "                                                                 \n",
      " batch_normalization (BatchN  (None, 256)              1024      \n",
      " ormalization)                                                   \n",
      "                                                                 \n",
      " dropout (Dropout)           (None, 256)               0         \n",
      "                                                                 \n",
      " dense_4 (Dense)             (None, 128)               32896     \n",
      "                                                                 \n",
      " batch_normalization_1 (Batc  (None, 128)              512       \n",
      " hNormalization)                                                 \n",
      "                                                                 \n",
      " dropout_1 (Dropout)         (None, 128)               0         \n",
      "                                                                 \n",
      " dense_5 (Dense)             (None, 64)                8256      \n",
      "                                                                 \n",
      " batch_normalization_2 (Batc  (None, 64)               256       \n",
      " hNormalization)                                                 \n",
      "                                                                 \n",
      " dropout_2 (Dropout)         (None, 64)                0         \n",
      "                                                                 \n",
      " dense_6 (Dense)             (None, 32)                2080      \n",
      "                                                                 \n",
      " batch_normalization_3 (Batc  (None, 32)               128       \n",
      " hNormalization)                                                 \n",
      "                                                                 \n",
      " dropout_3 (Dropout)         (None, 32)                0         \n",
      "                                                                 \n",
      " dense_7 (Dense)             (None, 1)                 33        \n",
      "                                                                 \n",
      "=================================================================\n",
      "Total params: 46,465\n",
      "Trainable params: 45,505\n",
      "Non-trainable params: 960\n",
      "_________________________________________________________________\n"
     ]
    }
   ],
   "source": [
    "from tensorflow.keras.layers import Dense, Dropout, BatchNormalization\n",
    "from tensorflow.keras.callbacks import EarlyStopping\n",
    "\n",
    "# Build the model\n",
    "model = Sequential([\n",
    "    Dense(256, activation='relu', input_shape=(X_train.shape[1],)),\n",
    "    BatchNormalization(),  # Add BatchNormalization layer\n",
    "    Dropout(0.3),\n",
    "    Dense(128, activation='relu'),\n",
    "    BatchNormalization(),  # Add BatchNormalization layer\n",
    "    Dropout(0.3),\n",
    "    Dense(64, activation='relu'),\n",
    "    BatchNormalization(),  # Add BatchNormalization layer\n",
    "    Dropout(0.3),\n",
    "    Dense(32, activation='relu'),\n",
    "    BatchNormalization(),  # Add BatchNormalization layer\n",
    "    Dropout(0.3),\n",
    "    Dense(1)\n",
    "])\n",
    "#Network summary\n",
    "model.summary()"
   ]
  },
  {
   "cell_type": "code",
   "execution_count": 16,
   "id": "98816f8b",
   "metadata": {},
   "outputs": [
    {
     "name": "stdout",
     "output_type": "stream",
     "text": [
      "WARNING:tensorflow:From C:\\Users\\rajes\\OneDrive\\Documents\\Python Scripts\\lib\\site-packages\\keras\\optimizers\\__init__.py:300: The name tf.train.Optimizer is deprecated. Please use tf.compat.v1.train.Optimizer instead.\n",
      "\n",
      "Epoch 1/100\n",
      "3/3 [==============================] - 5s 451ms/step - loss: 9.6239 - accuracy: 0.3333 - val_loss: 9.3023 - val_accuracy: 0.2083\n",
      "Epoch 2/100\n",
      "3/3 [==============================] - 0s 63ms/step - loss: 4.0003 - accuracy: 0.4375 - val_loss: 2.4961 - val_accuracy: 0.2083\n",
      "Epoch 3/100\n",
      "3/3 [==============================] - 0s 69ms/step - loss: 4.5780 - accuracy: 0.4792 - val_loss: 1.8059 - val_accuracy: 0.2083\n",
      "Epoch 4/100\n",
      "3/3 [==============================] - 0s 72ms/step - loss: 1.4528 - accuracy: 0.5000 - val_loss: 1.4721 - val_accuracy: 0.2083\n",
      "Epoch 5/100\n",
      "3/3 [==============================] - 0s 73ms/step - loss: 1.5697 - accuracy: 0.6042 - val_loss: 1.3276 - val_accuracy: 0.2083\n",
      "Epoch 6/100\n",
      "3/3 [==============================] - 0s 59ms/step - loss: 0.8854 - accuracy: 0.5417 - val_loss: 1.3121 - val_accuracy: 0.2083\n",
      "Epoch 7/100\n",
      "3/3 [==============================] - 0s 68ms/step - loss: 1.4158 - accuracy: 0.5833 - val_loss: 1.3392 - val_accuracy: 0.2083\n",
      "Epoch 8/100\n",
      "3/3 [==============================] - 0s 50ms/step - loss: -0.2000 - accuracy: 0.5938 - val_loss: 1.5804 - val_accuracy: 0.2083\n",
      "Epoch 9/100\n",
      "3/3 [==============================] - 0s 76ms/step - loss: 1.0175 - accuracy: 0.5938 - val_loss: 1.1491 - val_accuracy: 0.2083\n",
      "Epoch 10/100\n",
      "3/3 [==============================] - 0s 75ms/step - loss: -1.3701 - accuracy: 0.5938 - val_loss: 0.9787 - val_accuracy: 0.2083\n",
      "Epoch 11/100\n",
      "3/3 [==============================] - 0s 45ms/step - loss: -1.6650 - accuracy: 0.6042 - val_loss: 0.9064 - val_accuracy: 0.2083\n",
      "Epoch 12/100\n",
      "3/3 [==============================] - 0s 60ms/step - loss: -1.2964 - accuracy: 0.5625 - val_loss: 0.6923 - val_accuracy: 0.2083\n",
      "Epoch 13/100\n",
      "3/3 [==============================] - 0s 74ms/step - loss: -2.3094 - accuracy: 0.5833 - val_loss: 0.7432 - val_accuracy: 0.2083\n",
      "Epoch 14/100\n",
      "3/3 [==============================] - 0s 65ms/step - loss: -2.3344 - accuracy: 0.6458 - val_loss: 0.5910 - val_accuracy: 0.2083\n",
      "Epoch 15/100\n",
      "3/3 [==============================] - 0s 39ms/step - loss: -2.1459 - accuracy: 0.6458 - val_loss: 0.6182 - val_accuracy: 0.2083\n",
      "Epoch 16/100\n",
      "3/3 [==============================] - 0s 43ms/step - loss: -2.9912 - accuracy: 0.6250 - val_loss: 0.6893 - val_accuracy: 0.2083\n",
      "Epoch 17/100\n",
      "3/3 [==============================] - 0s 63ms/step - loss: -2.6616 - accuracy: 0.6250 - val_loss: 0.0437 - val_accuracy: 0.2083\n",
      "Epoch 18/100\n",
      "3/3 [==============================] - 0s 49ms/step - loss: -3.7090 - accuracy: 0.6250 - val_loss: 0.3409 - val_accuracy: 0.2083\n",
      "Epoch 19/100\n",
      "3/3 [==============================] - 0s 66ms/step - loss: -3.8690 - accuracy: 0.6562 - val_loss: -0.1682 - val_accuracy: 0.2083\n",
      "Epoch 20/100\n",
      "3/3 [==============================] - 0s 48ms/step - loss: -2.9278 - accuracy: 0.6562 - val_loss: 0.1602 - val_accuracy: 0.2083\n",
      "Epoch 21/100\n",
      "3/3 [==============================] - 0s 44ms/step - loss: -3.2757 - accuracy: 0.6771 - val_loss: 0.5299 - val_accuracy: 0.2083\n",
      "Epoch 22/100\n",
      "3/3 [==============================] - 0s 50ms/step - loss: -3.7274 - accuracy: 0.6875 - val_loss: 0.2489 - val_accuracy: 0.2083\n",
      "Epoch 23/100\n",
      "3/3 [==============================] - 0s 55ms/step - loss: -2.6652 - accuracy: 0.6771 - val_loss: -0.6868 - val_accuracy: 0.4167\n",
      "Epoch 24/100\n",
      "3/3 [==============================] - 0s 47ms/step - loss: -3.8835 - accuracy: 0.6458 - val_loss: -0.5221 - val_accuracy: 0.3750\n",
      "Epoch 25/100\n",
      "3/3 [==============================] - 0s 39ms/step - loss: -2.4856 - accuracy: 0.6458 - val_loss: -0.4964 - val_accuracy: 0.4167\n",
      "Epoch 26/100\n",
      "3/3 [==============================] - 0s 39ms/step - loss: -2.7803 - accuracy: 0.6667 - val_loss: -0.3548 - val_accuracy: 0.4167\n",
      "Epoch 27/100\n",
      "3/3 [==============================] - 0s 63ms/step - loss: -3.2953 - accuracy: 0.6979 - val_loss: -0.8124 - val_accuracy: 0.4583\n",
      "Epoch 28/100\n",
      "3/3 [==============================] - 0s 62ms/step - loss: -3.8514 - accuracy: 0.6979 - val_loss: -0.6916 - val_accuracy: 0.4167\n",
      "Epoch 29/100\n",
      "3/3 [==============================] - 0s 41ms/step - loss: -3.4270 - accuracy: 0.6667 - val_loss: -0.7677 - val_accuracy: 0.4167\n",
      "Epoch 30/100\n",
      "3/3 [==============================] - 0s 55ms/step - loss: -3.6443 - accuracy: 0.6979 - val_loss: -7.6044 - val_accuracy: 0.5000\n",
      "Epoch 31/100\n",
      "3/3 [==============================] - 0s 58ms/step - loss: -4.0949 - accuracy: 0.7083 - val_loss: -7.6123 - val_accuracy: 0.5000\n",
      "Epoch 32/100\n",
      "3/3 [==============================] - 0s 69ms/step - loss: -3.6105 - accuracy: 0.7083 - val_loss: -7.6246 - val_accuracy: 0.5000\n",
      "Epoch 33/100\n",
      "3/3 [==============================] - 0s 57ms/step - loss: -3.2639 - accuracy: 0.6875 - val_loss: -7.6246 - val_accuracy: 0.5000\n",
      "Epoch 34/100\n",
      "3/3 [==============================] - 0s 43ms/step - loss: -4.1077 - accuracy: 0.6979 - val_loss: -7.6246 - val_accuracy: 0.5000\n",
      "Epoch 35/100\n",
      "3/3 [==============================] - 0s 50ms/step - loss: -4.1192 - accuracy: 0.7083 - val_loss: -7.6246 - val_accuracy: 0.5000\n",
      "Epoch 36/100\n",
      "3/3 [==============================] - 0s 47ms/step - loss: -4.1277 - accuracy: 0.7083 - val_loss: -7.6246 - val_accuracy: 0.5000\n",
      "Epoch 37/100\n",
      "3/3 [==============================] - 0s 52ms/step - loss: -3.9277 - accuracy: 0.6771 - val_loss: -7.6246 - val_accuracy: 0.5000\n",
      "Epoch 38/100\n",
      "3/3 [==============================] - 0s 48ms/step - loss: -3.3474 - accuracy: 0.6979 - val_loss: -7.6246 - val_accuracy: 0.5000\n",
      "Epoch 39/100\n",
      "3/3 [==============================] - 0s 69ms/step - loss: -4.0955 - accuracy: 0.7188 - val_loss: -7.6246 - val_accuracy: 0.5000\n",
      "Epoch 40/100\n",
      "3/3 [==============================] - 0s 78ms/step - loss: -4.2888 - accuracy: 0.7188 - val_loss: -7.6246 - val_accuracy: 0.5000\n",
      "Epoch 41/100\n",
      "3/3 [==============================] - 0s 66ms/step - loss: -4.2820 - accuracy: 0.7188 - val_loss: -7.6246 - val_accuracy: 0.5000\n",
      "Epoch 42/100\n",
      "3/3 [==============================] - 0s 81ms/step - loss: -3.9239 - accuracy: 0.6979 - val_loss: -7.6246 - val_accuracy: 0.5000\n",
      "1/1 [==============================] - 0s 103ms/step - loss: -5.5914 - accuracy: 0.6333\n",
      "Accuracy Test Data: 0.30000001192092896\n",
      "1/1 [==============================] - 0s 115ms/step - loss: -5.5914 - accuracy: 0.6333\n",
      "Test Loss: -5.5913872718811035\n",
      "Test Accuracy: 0.6333333253860474\n"
     ]
    }
   ],
   "source": [
    "# Compile the model\n",
    "model.compile(optimizer='RMSprop', loss='binary_crossentropy', metrics=['accuracy'])\n",
    "\n",
    "# Define early stopping callback\n",
    "early_stopping = EarlyStopping(monitor='val_loss', patience=10, restore_best_weights=True)\n",
    "\n",
    "# Train the model with early stopping and batch normalization\n",
    "history = model.fit(X_train, y_train, epochs=100, batch_size=32, validation_split=0.2, callbacks=[early_stopping], verbose=1)\n",
    "\n",
    "# Evaluate the model\n",
    "loss, mae = model.evaluate(X_test, y_test)\n",
    "print(f\"Accuracy Test Data: {accuracy}\")\n",
    "\n",
    "# Evaluate the model on the test set\n",
    "loss, accuracy = model.evaluate(X_test, y_test)\n",
    "print(\"Test Loss:\", loss)\n",
    "print(\"Test Accuracy:\", accuracy)"
   ]
  },
  {
   "cell_type": "code",
   "execution_count": 17,
   "id": "a46efb6f",
   "metadata": {},
   "outputs": [
    {
     "name": "stdout",
     "output_type": "stream",
     "text": [
      "Epoch 1/50\n",
      "1/1 [==============================] - 6s 6s/step - loss: -4.1265 - accuracy: 0.7188 - val_loss: -7.6246 - val_accuracy: 0.5000\n",
      "Epoch 2/50\n",
      "1/1 [==============================] - 0s 130ms/step - loss: -4.1235 - accuracy: 0.6979 - val_loss: -7.6246 - val_accuracy: 0.5000\n",
      "Epoch 3/50\n",
      "1/1 [==============================] - 0s 119ms/step - loss: -3.8155 - accuracy: 0.6979 - val_loss: -7.6246 - val_accuracy: 0.5000\n",
      "Epoch 4/50\n",
      "1/1 [==============================] - 0s 124ms/step - loss: -3.8816 - accuracy: 0.7188 - val_loss: -7.6246 - val_accuracy: 0.5000\n",
      "Epoch 5/50\n",
      "1/1 [==============================] - 0s 78ms/step - loss: -4.1599 - accuracy: 0.7188 - val_loss: -7.6246 - val_accuracy: 0.5000\n",
      "Epoch 6/50\n",
      "1/1 [==============================] - 0s 78ms/step - loss: -3.7869 - accuracy: 0.7083 - val_loss: -7.6246 - val_accuracy: 0.5000\n",
      "Epoch 7/50\n",
      "1/1 [==============================] - 0s 94ms/step - loss: -3.5079 - accuracy: 0.7188 - val_loss: -7.6246 - val_accuracy: 0.5000\n",
      "Epoch 8/50\n",
      "1/1 [==============================] - 0s 78ms/step - loss: -4.2620 - accuracy: 0.7083 - val_loss: -7.6246 - val_accuracy: 0.5000\n",
      "Epoch 9/50\n",
      "1/1 [==============================] - 0s 95ms/step - loss: -3.6703 - accuracy: 0.7188 - val_loss: -7.6246 - val_accuracy: 0.5000\n",
      "Epoch 10/50\n",
      "1/1 [==============================] - 0s 165ms/step - loss: -4.1013 - accuracy: 0.6875 - val_loss: -7.6246 - val_accuracy: 0.5000\n",
      "Epoch 11/50\n",
      "1/1 [==============================] - 0s 132ms/step - loss: -4.1326 - accuracy: 0.6979 - val_loss: -7.6246 - val_accuracy: 0.5000\n",
      "1/1 [==============================] - 0s 93ms/step - loss: -5.5914 - accuracy: 0.6333\n",
      "Accuracy Test Data: 0.6333333253860474\n",
      "1/1 [==============================] - 0s 63ms/step - loss: -5.5914 - accuracy: 0.6333\n",
      "Test Loss: -5.5913872718811035\n",
      "Test Accuracy: 0.6333333253860474\n"
     ]
    }
   ],
   "source": [
    "# Compile the model\n",
    "model.compile(optimizer='adam', loss='binary_crossentropy', metrics=['accuracy'])\n",
    "\n",
    "# Define early stopping callback\n",
    "early_stopping = EarlyStopping(monitor='val_loss', patience=10, restore_best_weights=True)\n",
    "\n",
    "# Train the model with early stopping and batch normalization\n",
    "history = model.fit(X_train, y_train, epochs=50, batch_size=100, validation_split=0.2, callbacks=[early_stopping], verbose=1)\n",
    "\n",
    "# Evaluate the model\n",
    "loss, mae = model.evaluate(X_test, y_test)\n",
    "print(f\"Accuracy Test Data: {mae}\")\n",
    "\n",
    "# Evaluate the model on the test set\n",
    "loss, accuracy = model.evaluate(X_test, y_test)\n",
    "print(\"Test Loss:\", loss)\n",
    "print(\"Test Accuracy:\", accuracy)"
   ]
  },
  {
   "cell_type": "code",
   "execution_count": 18,
   "id": "53652153",
   "metadata": {},
   "outputs": [
    {
     "name": "stdout",
     "output_type": "stream",
     "text": [
      "1/1 [==============================] - 0s 435ms/step\n",
      "Accuracy: 0.6333333333333333\n",
      "Precision: 0.48333333333333334\n",
      "Recall: 0.6666666666666666\n",
      "F1 Score: 0.5402298850574713\n"
     ]
    }
   ],
   "source": [
    "from sklearn.metrics import accuracy_score, precision_score, recall_score, f1_score\n",
    "\n",
    "# Evaluate the model on the test set\n",
    "y_pred_prob = model.predict(X_test)\n",
    "y_pred = (y_pred_prob > 0.5).astype(int)  # Convert probabilities to binary predictions using threshold 0.5\n",
    "\n",
    "accuracy = accuracy_score(y_test, y_pred)\n",
    "precision = precision_score(y_test, y_pred, average='macro')  # Change average to 'binary'\n",
    "recall = recall_score(y_test, y_pred, average='macro')        # Change average to 'binary'\n",
    "f1 = f1_score(y_test, y_pred, average='macro')            # Change average to 'binary'\n",
    "\n",
    "print(\"Accuracy:\", accuracy)\n",
    "print(\"Precision:\", precision)\n",
    "print(\"Recall:\", recall)\n",
    "print(\"F1 Score:\", f1)"
   ]
  },
  {
   "cell_type": "code",
   "execution_count": 19,
   "id": "bb6e7855",
   "metadata": {},
   "outputs": [],
   "source": [
    "# Plot decision boundary\n",
    "#x_min, x_max = X[:, 0].min() - 0.5, X[:, 0].max() + 0.5\n",
    "#y_min, y_max = X[:, 1].min() - 0.5, X[:, 1].max() + 0.5\n",
    "#xx, yy = np.meshgrid(np.arange(x_min, x_max, 0.01),\n",
    "                     #np.arange(y_min, y_max, 0.01))\n",
    "\n",
    "#Z = model.predict(np.c_[xx.ravel(), yy.ravel()]) > 0.5\n",
    "#Z = Z.reshape(xx.shape)\n",
    "\n",
    "#plt.contourf(xx, yy, Z, alpha=0.3)\n",
    "#plt.scatter(X[:, 0], X[:, 1], c=y, cmap=plt.cm.Set1)\n",
    "#plt.xlabel('Sepal length')\n",
    "##plt.ylabel('Sepal width')\n",
    "#plt.title('Decision Boundary')\n",
    "#plt.show()"
   ]
  },
  {
   "cell_type": "code",
   "execution_count": 20,
   "id": "7964ed3f",
   "metadata": {},
   "outputs": [
    {
     "name": "stdout",
     "output_type": "stream",
     "text": [
      "1/1 [==============================] - 0s 47ms/step\n"
     ]
    },
    {
     "data": {
      "image/png": "[encoded data removed]",
      "text/plain": [
       "<Figure size 1200x600 with 2 Axes>"
      ]
     },
     "metadata": {},
     "output_type": "display_data"
    }
   ],
   "source": [
    "# Make predictions on the test set\n",
    "y_pred_prob = model.predict(X_test)\n",
    "y_pred = np.argmax(y_pred_prob, axis=1)  # Choose the class with the highest probability as the predicted class\n",
    "\n",
    "# Visualize some predictions\n",
    "plt.figure(figsize=(12, 6))\n",
    "plt.subplot(1, 2, 1)\n",
    "plt.scatter(X_test[:, 0], X_test[:, 1], c=y_test, cmap=plt.cm.Set1, edgecolor='k', label='Actual Labels')\n",
    "plt.xlabel('Sepal length')\n",
    "plt.ylabel('Sepal width')\n",
    "plt.title('Actual Labels')\n",
    "plt.legend()\n",
    "\n",
    "plt.subplot(1, 2, 2)\n",
    "plt.scatter(X_test[:, 0], X_test[:, 1], c=y_pred, cmap=plt.cm.Set1, edgecolor='k', label='Predicted Labels')\n",
    "plt.xlabel('Sepal length')\n",
    "plt.ylabel('Sepal width')\n",
    "plt.title('Predicted Labels')\n",
    "plt.legend()\n",
    "\n",
    "plt.show()\n"
   ]
  },
  {
   "cell_type": "code",
   "execution_count": null,
   "id": "51d79350",
   "metadata": {},
   "outputs": [],
   "source": []
  }
 ],
 "metadata": {
  "kernelspec": {
   "display_name": "Python 3 (ipykernel)",
   "language": "python",
   "name": "python3"
  },
  "language_info": {
   "codemirror_mode": {
    "name": "ipython",
    "version": 3
   },
   "file_extension": ".py",
   "mimetype": "text/x-python",
   "name": "python",
   "nbconvert_exporter": "python",
   "pygments_lexer": "ipython3",
   "version": "3.10.9"
  }
 },
 "nbformat": 4,
 "nbformat_minor": 5
}
